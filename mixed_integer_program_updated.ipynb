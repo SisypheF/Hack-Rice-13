{
 "cells": [
  {
   "cell_type": "code",
   "execution_count": 5,
   "metadata": {
    "colab": {
     "base_uri": "https://localhost:8080/"
    },
    "id": "S8PC-ujnI81W",
    "outputId": "a80f0105-fc77-4814-d075-0b216fe3f982"
   },
   "outputs": [
    {
     "name": "stdout",
     "output_type": "stream",
     "text": [
      "Requirement already satisfied: gurobipy in /Users/michael_khalfin/opt/anaconda3/lib/python3.9/site-packages (9.5.2)\n",
      "Requirement already satisfied: pandas in /Users/michael_khalfin/opt/anaconda3/lib/python3.9/site-packages (1.4.4)\n",
      "Requirement already satisfied: python-dateutil>=2.8.1 in /Users/michael_khalfin/opt/anaconda3/lib/python3.9/site-packages (from pandas) (2.8.2)\n",
      "Requirement already satisfied: pytz>=2020.1 in /Users/michael_khalfin/opt/anaconda3/lib/python3.9/site-packages (from pandas) (2022.1)\n",
      "Requirement already satisfied: numpy>=1.18.5 in /Users/michael_khalfin/opt/anaconda3/lib/python3.9/site-packages (from pandas) (1.22.0)\n",
      "Requirement already satisfied: six>=1.5 in /Users/michael_khalfin/opt/anaconda3/lib/python3.9/site-packages (from python-dateutil>=2.8.1->pandas) (1.16.0)\n"
     ]
    }
   ],
   "source": [
    "%%bash\n",
    "pip install gurobipy\n",
    "pip install pandas"
   ]
  },
  {
   "cell_type": "code",
   "execution_count": 1,
   "metadata": {
    "id": "s7z-ZxwZK3QR"
   },
   "outputs": [],
   "source": [
    "import math\n",
    "import pandas as pd\n",
    "import gurobipy as gp\n",
    "from gurobipy import GRB"
   ]
  },
  {
   "cell_type": "code",
   "execution_count": 2,
   "metadata": {
    "id": "t6pQOoBMhvx0"
   },
   "outputs": [],
   "source": [
    "def castRisk(character):\n",
    "  mapping = {'A': 1, 'B': 2, 'C': 3, 'D': 4, 'F': 6}\n",
    "  if character in mapping.keys():\n",
    "    return mapping[character]"
   ]
  },
  {
   "cell_type": "code",
   "execution_count": 3,
   "metadata": {
    "id": "1pSXH4p9d9Ec"
   },
   "outputs": [],
   "source": [
    "def distinct(d, var, num):\n",
    "    modVar = []\n",
    "    for index in range(num):\n",
    "        if d[index]:\n",
    "            modVar.append(var[index])\n",
    "    occurence = {}\n",
    "    for item in modVar:\n",
    "        if item not in occurence.keys():\n",
    "            occurence[item] = 1\n",
    "        else:\n",
    "            occurence[item] = occurence[item] + 1\n",
    "    return len(occurence.keys())"
   ]
  },
  {
   "cell_type": "code",
   "execution_count": 4,
   "metadata": {},
   "outputs": [],
   "source": [
    "def Var(x, num):\n",
    "    Xsum = 0\n",
    "    for num in x:\n",
    "        Xsum = Xsum + num\n",
    "    mean = Xsum / num\n",
    "    sq_sum = 0\n",
    "    for num in x:\n",
    "        sq_sum = sq_sum + (num - mean)**2\n",
    "    return sq_sum / num\n",
    "    "
   ]
  },
  {
   "cell_type": "code",
   "execution_count": 5,
   "metadata": {},
   "outputs": [],
   "source": [
    "def occurrence(d, var, num, proj, df):\n",
    "    count = 0\n",
    "    for index in range(num):\n",
    "        if d[index]:\n",
    "            if (df['Grade'][index] == proj):\n",
    "                count = count + var[index]\n",
    "    return count"
   ]
  },
  {
   "cell_type": "code",
   "execution_count": 6,
   "metadata": {},
   "outputs": [],
   "source": [
    "# Given constants\n",
    "quota = 200\n",
    "penalty = 100"
   ]
  },
  {
   "cell_type": "code",
   "execution_count": 8,
   "metadata": {
    "id": "4KKoC1E5Sw3U"
   },
   "outputs": [],
   "source": [
    "# Read Data\n",
    "df = pd.read_excel('/Users/michael_khalfin/Downloads/Book6.xlsx')\n",
    "df = df.dropna()"
   ]
  },
  {
   "cell_type": "code",
   "execution_count": 9,
   "metadata": {
    "colab": {
     "base_uri": "https://localhost:8080/"
    },
    "id": "FydjXClxK3Ys",
    "outputId": "b361fabc-38d0-46bb-a2ae-fcf87716c496"
   },
   "outputs": [
    {
     "name": "stdout",
     "output_type": "stream",
     "text": [
      "Restricted license - for non-production use only - expires 2023-10-25\n"
     ]
    }
   ],
   "source": [
    "# Initialize model\n",
    "model = gp.Model(\"MIP_Model\")"
   ]
  },
  {
   "cell_type": "code",
   "execution_count": 10,
   "metadata": {
    "id": "Loj8VwDwK3fe"
   },
   "outputs": [],
   "source": [
    "# Number of projects in the data table\n",
    "numProjDev = df.shape[0]"
   ]
  },
  {
   "cell_type": "code",
   "execution_count": 11,
   "metadata": {
    "id": "CfkWLoy4K3mG"
   },
   "outputs": [],
   "source": [
    "# Add variables to the model\n",
    "x = model.addVars(numProjDev, vtype=GRB.INTEGER, name=\"quantity\")\n",
    "d = model.addVars(numProjDev, vtype=GRB.BINARY, name=\"devTF\")"
   ]
  },
  {
   "cell_type": "code",
   "execution_count": 12,
   "metadata": {
    "id": "oMQkCF7Sfxkj"
   },
   "outputs": [],
   "source": [
    "# Initialize the objective function\n",
    "obj = sum(elem1 * castRisk(elem2) for elem1, elem2 in zip(x, df['Grade'])) + penalty * Var(x, numProjDev)\n",
    "model.setObjective(obj, GRB.MINIMIZE)"
   ]
  },
  {
   "cell_type": "code",
   "execution_count": 13,
   "metadata": {
    "colab": {
     "base_uri": "https://localhost:8080/"
    },
    "id": "d2AR3XbBoMUQ",
    "outputId": "cb452c43-2b6c-4806-ac93-3250ee1ea264"
   },
   "outputs": [
    {
     "data": {
      "text/plain": [
       "<gurobi.Constr *Awaiting Model Update*>"
      ]
     },
     "execution_count": 13,
     "metadata": {},
     "output_type": "execute_result"
    }
   ],
   "source": [
    "# Constraints\n",
    "model.addConstr(gp.quicksum(df['Dollar'][i]*x[i] for i in range(numProjDev)) <= 10000, \"price\")\n",
    "for i in range(numProjDev):\n",
    "    model.addConstr(x[i] <= df[\"Quantity\"][i], \"quantity\")\n",
    "    model.addConstr(d[i] * x[i] - x[i] >= -0.5, \"1st binary constraint\")\n",
    "    model.addConstr(d[i] * x[i] - d[i] >= -0.5, \"2nd binary constraint\")\n",
    "    model.addConstr(x[i] / quota <= 0.05, \"maximum concentration of each project\")\n",
    "model.addConstr(gp.quicksum(d[i] for i in range(numProjDev)) >= 20, \"\")\n",
    "model.addConstr(distinct(d, df['Vintage'], numProjDev) >= 1, \"vintage\")\n",
    "model.addConstr(distinct(d, df['Registry'], numProjDev) >= 1, \"registry\")\n",
    "model.addConstr(distinct(d, df['Location'], numProjDev) >= 1, \"location\")\n",
    "model.addConstr(distinct(d, df['Mechanism'], numProjDev) >= 1, \"mechanism\")\n",
    "model.addConstr(distinct(d, df['Type'], numProjDev) >= 1, \"typeProject\")\n",
    "model.addConstr(gp.quicksum(x[i] for i in range(numProjDev)) >= quota, \"quota\")"
   ]
  },
  {
   "cell_type": "code",
   "execution_count": 14,
   "metadata": {
    "colab": {
     "base_uri": "https://localhost:8080/",
     "height": 304
    },
    "id": "cGPLq6bttHwW",
    "outputId": "259989d1-915d-40fc-dc49-57ad28c6b0bc"
   },
   "outputs": [
    {
     "name": "stdout",
     "output_type": "stream",
     "text": [
      "Gurobi Optimizer version 9.5.2 build v9.5.2rc0 (mac64[rosetta2])\n",
      "Thread count: 8 physical cores, 8 logical processors, using up to 8 threads\n",
      "Optimize a model with 74 rows, 66 columns and 165 nonzeros\n",
      "Model fingerprint: 0xfb82b133\n",
      "Model has 66 quadratic constraints\n",
      "Variable types: 0 continuous, 66 integer (33 binary)\n",
      "Coefficient statistics:\n",
      "  Matrix range     [5e-03, 2e+03]\n",
      "  QMatrix range    [1e+00, 1e+00]\n",
      "  QLMatrix range   [1e+00, 1e+00]\n",
      "  Objective range  [0e+00, 0e+00]\n",
      "  Bounds range     [1e+00, 1e+00]\n",
      "  RHS range        [5e-02, 2e+05]\n",
      "  QRHS range       [5e-01, 5e-01]\n",
      "Presolve removed 7 rows and 1 columns\n",
      "Presolve time: 0.01s\n",
      "Presolved: 67 rows, 65 columns, 227 nonzeros\n",
      "Variable types: 0 continuous, 65 integer (33 binary)\n",
      "Found heuristic solution: objective 10832.781250\n",
      "\n",
      "Explored 0 nodes (0 simplex iterations) in 0.03 seconds (0.00 work units)\n",
      "Thread count was 8 (of 8 available processors)\n",
      "\n",
      "Solution count 1: 10832.8 \n",
      "\n",
      "Optimal solution found (tolerance 1.00e-04)\n",
      "Best objective 1.083278125000e+04, best bound 1.083278125000e+04, gap 0.0000%\n"
     ]
    }
   ],
   "source": [
    "# Optimization\n",
    "model.optimize()"
   ]
  },
  {
   "cell_type": "code",
   "execution_count": 18,
   "metadata": {},
   "outputs": [
    {
     "name": "stdout",
     "output_type": "stream",
     "text": [
      "quantity[0] = 10.0\n",
      "quantity[1] = 10.0\n",
      "quantity[2] = 10.0\n",
      "quantity[3] = 10.0\n",
      "quantity[4] = 10.0\n",
      "quantity[5] = 10.0\n",
      "quantity[6] = 10.0\n",
      "quantity[7] = 10.0\n",
      "quantity[8] = 9.0\n",
      "quantity[9] = 10.0\n",
      "quantity[10] = 10.0\n",
      "quantity[11] = 10.0\n",
      "quantity[12] = 10.0\n",
      "quantity[13] = 10.0\n",
      "quantity[14] = -0.0\n",
      "quantity[15] = -0.0\n",
      "quantity[16] = 1.0\n",
      "quantity[17] = -0.0\n",
      "quantity[18] = 10.0\n",
      "quantity[19] = 10.0\n",
      "quantity[20] = 10.0\n",
      "quantity[21] = 10.0\n",
      "quantity[22] = 10.0\n",
      "quantity[23] = -0.0\n",
      "quantity[24] = -0.0\n",
      "quantity[25] = -0.0\n",
      "quantity[26] = -0.0\n",
      "quantity[27] = -0.0\n",
      "quantity[28] = -0.0\n",
      "quantity[29] = -0.0\n",
      "quantity[30] = -0.0\n",
      "quantity[31] = -0.0\n",
      "quantity[32] = 10.0\n",
      "devTF[0] = 1.0\n",
      "devTF[1] = 1.0\n",
      "devTF[2] = 1.0\n",
      "devTF[3] = 1.0\n",
      "devTF[4] = 1.0\n",
      "devTF[5] = 1.0\n",
      "devTF[6] = 1.0\n",
      "devTF[7] = 1.0\n",
      "devTF[8] = 1.0\n",
      "devTF[9] = 1.0\n",
      "devTF[10] = 1.0\n",
      "devTF[11] = 1.0\n",
      "devTF[12] = 1.0\n",
      "devTF[13] = 1.0\n",
      "devTF[14] = -0.0\n",
      "devTF[15] = -0.0\n",
      "devTF[16] = 1.0\n",
      "devTF[17] = -0.0\n",
      "devTF[18] = 1.0\n",
      "devTF[19] = 1.0\n",
      "devTF[20] = 1.0\n",
      "devTF[21] = 1.0\n",
      "devTF[22] = 1.0\n",
      "devTF[23] = -0.0\n",
      "devTF[24] = -0.0\n",
      "devTF[25] = -0.0\n",
      "devTF[26] = -0.0\n",
      "devTF[27] = -0.0\n",
      "devTF[28] = -0.0\n",
      "devTF[29] = -0.0\n",
      "devTF[30] = -0.0\n",
      "devTF[31] = -0.0\n",
      "devTF[32] = 1.0\n"
     ]
    }
   ],
   "source": [
    "# Results\n",
    "for v in model.getVars():\n",
    "    print(f\"{v.varName} = {v.x}\")"
   ]
  },
  {
   "cell_type": "code",
   "execution_count": 20,
   "metadata": {},
   "outputs": [
    {
     "data": {
      "text/plain": [
       "[10.0,\n",
       " 10.0,\n",
       " 10.0,\n",
       " 10.0,\n",
       " 10.0,\n",
       " 10.0,\n",
       " 10.0,\n",
       " 10.0,\n",
       " 9.0,\n",
       " 10.0,\n",
       " 10.0,\n",
       " 10.0,\n",
       " 10.0,\n",
       " 10.0,\n",
       " -0.0,\n",
       " -0.0,\n",
       " 1.0,\n",
       " -0.0,\n",
       " 10.0,\n",
       " 10.0,\n",
       " 10.0,\n",
       " 10.0,\n",
       " 10.0,\n",
       " -0.0,\n",
       " -0.0,\n",
       " -0.0,\n",
       " -0.0,\n",
       " -0.0,\n",
       " -0.0,\n",
       " -0.0,\n",
       " -0.0,\n",
       " -0.0,\n",
       " 10.0]"
      ]
     },
     "execution_count": 20,
     "metadata": {},
     "output_type": "execute_result"
    }
   ],
   "source": [
    "quantity_values = [x[i].X for i in range(numProjDev)]\n",
    "quantity_values"
   ]
  },
  {
   "cell_type": "code",
   "execution_count": 29,
   "metadata": {},
   "outputs": [
    {
     "name": "stdout",
     "output_type": "stream",
     "text": [
      "Gurobi Optimizer version 9.5.2 build v9.5.2rc0 (mac64[rosetta2])\n",
      "Thread count: 8 physical cores, 8 logical processors, using up to 8 threads\n",
      "Optimize a model with 74 rows, 72 columns and 171 nonzeros\n",
      "Model fingerprint: 0x52616252\n",
      "Model has 66 quadratic constraints\n"
     ]
    },
    {
     "name": "stdout",
     "output_type": "stream",
     "text": [
      "Variable types: 0 continuous, 72 integer (33 binary)\n",
      "Coefficient statistics:\n",
      "  Matrix range     [5e-03, 2e+03]\n",
      "  QMatrix range    [1e+00, 1e+00]\n",
      "  QLMatrix range   [1e+00, 1e+00]\n",
      "  Objective range  [1e+00, 1e+00]\n",
      "  Bounds range     [1e+00, 1e+00]\n",
      "  RHS range        [5e-02, 2e+05]\n",
      "  QRHS range       [5e-01, 5e-01]\n",
      "Presolve removed 40 rows and 7 columns\n",
      "Presolve time: 0.00s\n",
      "Presolved: 34 rows, 65 columns, 130 nonzeros\n",
      "Variable types: 0 continuous, 65 integer (33 binary)\n",
      "Found heuristic solution: objective 64.0000000\n",
      "Found heuristic solution: objective 74.0000000\n",
      "\n",
      "Root relaxation: objective 7.500000e+01, 11 iterations, 0.00 seconds (0.00 work units)\n",
      "\n",
      "    Nodes    |    Current Node    |     Objective Bounds      |     Work\n",
      " Expl Unexpl |  Obj  Depth IntInf | Incumbent    BestBd   Gap | It/Node Time\n",
      "\n",
      "*    0     0               0      75.0000000   75.00000  0.00%     -    0s\n",
      "\n",
      "Explored 1 nodes (11 simplex iterations) in 0.03 seconds (0.00 work units)\n",
      "Thread count was 8 (of 8 available processors)\n",
      "\n",
      "Solution count 3: 75 74 64 \n",
      "\n",
      "Optimal solution found (tolerance 1.00e-04)\n",
      "Best objective 7.500000000000e+01, best bound 7.500000000000e+01, gap 0.0000%\n",
      "quantity[0] = 10.0\n",
      "quantity[1] = 10.0\n",
      "quantity[2] = 10.0\n",
      "quantity[3] = 10.0\n",
      "quantity[4] = 1.0\n",
      "quantity[5] = 10.0\n",
      "quantity[6] = 10.0\n",
      "quantity[7] = 10.0\n",
      "quantity[8] = 10.0\n",
      "quantity[9] = 10.0\n",
      "quantity[10] = 10.0\n",
      "quantity[11] = 10.0\n",
      "quantity[12] = 1.0\n",
      "quantity[13] = 10.0\n",
      "quantity[14] = 1.0\n",
      "quantity[15] = 1.0\n",
      "quantity[16] = 1.0\n",
      "quantity[17] = 1.0\n",
      "quantity[18] = 1.0\n",
      "quantity[19] = 1.0\n",
      "quantity[20] = 10.0\n",
      "quantity[21] = 1.0\n",
      "quantity[22] = 10.0\n",
      "quantity[23] = 10.0\n",
      "quantity[24] = 1.0\n",
      "quantity[25] = 6.0\n",
      "quantity[26] = 1.0\n",
      "quantity[27] = 10.0\n",
      "quantity[28] = 1.0\n",
      "quantity[29] = 1.0\n",
      "quantity[30] = 10.0\n",
      "quantity[31] = 1.0\n",
      "quantity[32] = 10.0\n",
      "devTF[0] = 1.0\n",
      "devTF[1] = 1.0\n",
      "devTF[2] = 1.0\n",
      "devTF[3] = 1.0\n",
      "devTF[4] = 1.0\n",
      "devTF[5] = 1.0\n",
      "devTF[6] = 1.0\n",
      "devTF[7] = 1.0\n",
      "devTF[8] = 1.0\n",
      "devTF[9] = 1.0\n",
      "devTF[10] = 1.0\n",
      "devTF[11] = 1.0\n",
      "devTF[12] = 1.0\n",
      "devTF[13] = 1.0\n",
      "devTF[14] = 1.0\n",
      "devTF[15] = 1.0\n",
      "devTF[16] = 1.0\n",
      "devTF[17] = 1.0\n",
      "devTF[18] = 1.0\n",
      "devTF[19] = 1.0\n",
      "devTF[20] = 1.0\n",
      "devTF[21] = 1.0\n",
      "devTF[22] = 1.0\n",
      "devTF[23] = 1.0\n",
      "devTF[24] = 1.0\n",
      "devTF[25] = 1.0\n",
      "devTF[26] = 1.0\n",
      "devTF[27] = 1.0\n",
      "devTF[28] = 1.0\n",
      "devTF[29] = 1.0\n",
      "devTF[30] = 1.0\n",
      "devTF[31] = 1.0\n",
      "devTF[32] = 1.0\n",
      "amtDevs = 33.0\n",
      "amtVintage = 15.0\n",
      "amtRegistry = 5.0\n",
      "amtLocations = 10.0\n",
      "amtMechanisms = 2.0\n",
      "amtTypes = 10.0\n"
     ]
    },
    {
     "data": {
      "text/plain": [
       "{'amtDevs': 33.0,\n",
       " 'amtTypes': 10.0,\n",
       " 'amtRegistry': 5.0,\n",
       " 'amtLocations': 10.0,\n",
       " 'amtMechanisms': 2.0}"
      ]
     },
     "execution_count": 29,
     "metadata": {},
     "output_type": "execute_result"
    }
   ],
   "source": [
    "# initial setup\n",
    "\n",
    "# Initialize model\n",
    "model = gp.Model(\"MIP_Model\")\n",
    "\n",
    "# Add variables to the model\n",
    "x = model.addVars(numProjDev, vtype=GRB.INTEGER, name=\"quantity\")\n",
    "d = model.addVars(numProjDev, vtype=GRB.BINARY, name=\"devTF\")\n",
    "dbar = model.addVar(vtype=GRB.INTEGER, name=\"amtDevs\")\n",
    "v = model.addVar(vtype=GRB.INTEGER, name=\"amtVintage\")\n",
    "r = model.addVar(vtype=GRB.INTEGER, name=\"amtRegistry\")\n",
    "l = model.addVar(vtype=GRB.INTEGER, name=\"amtLocations\")\n",
    "m = model.addVar(vtype=GRB.INTEGER, name=\"amtMechanisms\")\n",
    "t = model.addVar(vtype=GRB.INTEGER, name=\"amtTypes\")\n",
    "\n",
    "# Initialize the objective function\n",
    "obj = dbar + v + r + l + m + t\n",
    "model.setObjective(obj, GRB.MAXIMIZE)\n",
    "\n",
    "# Constraints\n",
    "model.addConstr(gp.quicksum(df['Dollar'][i]*x[i] for i in range(numProjDev)) <= 10000, \"price\")\n",
    "for i in range(numProjDev):\n",
    "    model.addConstr(x[i] <= df[\"Quantity\"][i], \"quantity\")\n",
    "    model.addConstr(d[i] * x[i] - x[i] >= -0.5, \"1st binary constraint\")\n",
    "    model.addConstr(d[i] * x[i] - d[i] >= -0.5, \"2nd binary constraint\")\n",
    "    model.addConstr(x[i] / quota <= 0.05, \"maximum concentration of each project\")\n",
    "model.addConstr(gp.quicksum(d[i] for i in range(numProjDev)) - dbar >= 0, \"\")\n",
    "model.addConstr(distinct(d, df['Vintage'], numProjDev) - v >= 0, \"vintage\")\n",
    "model.addConstr(distinct(d, df['Registry'], numProjDev) - r >= 0, \"registry\")\n",
    "model.addConstr(distinct(d, df['Location'], numProjDev) - l >= 0, \"location\")\n",
    "model.addConstr(distinct(d, df['Mechanism'], numProjDev) - m >= 0, \"mechanism\")\n",
    "model.addConstr(distinct(d, df['Type'], numProjDev) - t >= 0, \"typeProject\")\n",
    "model.addConstr(gp.quicksum(x[i] for i in range(numProjDev)) >= quota, \"quota\")\n",
    "\n",
    "# Optimization\n",
    "model.optimize()\n",
    "\n",
    "# Results\n",
    "for v in model.getVars():\n",
    "    print(f\"{v.varName} = {v.x}\")\n",
    "\n",
    "returnDict = {dbar.varName:dbar.X, v.varName:v.x, r.varName:r.x, l.varName:l.x, m.varName:m.x, t.varName:t.x}\n",
    "returnDict"
   ]
  },
  {
   "cell_type": "code",
   "execution_count": 32,
   "metadata": {},
   "outputs": [
    {
     "data": {
      "text/plain": [
       "'{\\n    \"amtDevs\": 33.0,\\n    \"amtLocations\": 10.0,\\n    \"amtMechanisms\": 2.0,\\n    \"amtRegistry\": 5.0,\\n    \"amtTypes\": 10.0\\n}'"
      ]
     },
     "execution_count": 32,
     "metadata": {},
     "output_type": "execute_result"
    }
   ],
   "source": [
    "import json\n",
    "json_string = json.dumps(returnDict, indent=4, sort_keys=True)\n",
    "json_string"
   ]
  }
 ],
 "metadata": {
  "colab": {
   "provenance": []
  },
  "kernelspec": {
   "display_name": "Python 3 (ipykernel)",
   "language": "python",
   "name": "python3"
  },
  "language_info": {
   "codemirror_mode": {
    "name": "ipython",
    "version": 3
   },
   "file_extension": ".py",
   "mimetype": "text/x-python",
   "name": "python",
   "nbconvert_exporter": "python",
   "pygments_lexer": "ipython3",
   "version": "3.9.7"
  }
 },
 "nbformat": 4,
 "nbformat_minor": 1
}
