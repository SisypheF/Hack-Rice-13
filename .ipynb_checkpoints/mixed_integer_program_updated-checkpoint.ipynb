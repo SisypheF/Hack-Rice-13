{
 "cells": [
  {
   "cell_type": "code",
   "execution_count": 1,
   "metadata": {
    "colab": {
     "base_uri": "https://localhost:8080/"
    },
    "id": "S8PC-ujnI81W",
    "outputId": "a80f0105-fc77-4814-d075-0b216fe3f982"
   },
   "outputs": [],
   "source": [
    "#pip install gurobipy"
   ]
  },
  {
   "cell_type": "code",
   "execution_count": 2,
   "metadata": {
    "id": "s7z-ZxwZK3QR"
   },
   "outputs": [],
   "source": [
    "import math\n",
    "import pandas as pd\n",
    "import gurobipy as gp\n",
    "from gurobipy import GRB"
   ]
  },
  {
   "cell_type": "code",
   "execution_count": 3,
   "metadata": {
    "id": "t6pQOoBMhvx0"
   },
   "outputs": [],
   "source": [
    "def castRisk(character):\n",
    "  mapping = {'A': 1, 'B': 2, 'C': 3, 'D': 4, 'F': 6}\n",
    "  if character in mapping.keys():\n",
    "    return mapping[character]"
   ]
  },
  {
   "cell_type": "code",
   "execution_count": 4,
   "metadata": {
    "id": "1pSXH4p9d9Ec"
   },
   "outputs": [],
   "source": [
    "def distinct(d, var, num):\n",
    "    modVar = []\n",
    "    for index in range(num):\n",
    "        if d[index]:\n",
    "            modVar.append(var[index])\n",
    "    occurence = {}\n",
    "    for item in modVar:\n",
    "        if item not in occurence.keys():\n",
    "            occurence[item] = 1\n",
    "        else:\n",
    "            occurence[item] = occurence[item] + 1\n",
    "    return len(occurence.keys())"
   ]
  },
  {
   "cell_type": "code",
   "execution_count": 5,
   "metadata": {},
   "outputs": [],
   "source": [
    "def Var(x, num):\n",
    "    Xsum = 0\n",
    "    for num in x:\n",
    "        Xsum = Xsum + num\n",
    "    mean = Xsum / num\n",
    "    sq_sum = 0\n",
    "    for num in x:\n",
    "        sq_sum = sq_sum + (num - mean)**2\n",
    "    return sq_sum / num\n",
    "    "
   ]
  },
  {
   "cell_type": "code",
   "execution_count": 6,
   "metadata": {},
   "outputs": [],
   "source": [
    "def occurrence(d, var, num, proj, df):\n",
    "    count = 0\n",
    "    for index in range(num):\n",
    "        if d[index]:\n",
    "            if (df['Grade'][index] == proj):\n",
    "                count = count + var[index]\n",
    "    return count"
   ]
  },
  {
   "cell_type": "code",
   "execution_count": 7,
   "metadata": {},
   "outputs": [],
   "source": [
    "# Given constants\n",
    "quota = 200\n",
    "penalty = 100"
   ]
  },
  {
   "cell_type": "code",
   "execution_count": 8,
   "metadata": {
    "id": "4KKoC1E5Sw3U"
   },
   "outputs": [],
   "source": [
    "# Read Data\n",
    "df = pd.read_excel('/Users/meliodas/Downloads/Book6.xlsx')\n",
    "df = df.head(80)"
   ]
  },
  {
   "cell_type": "code",
   "execution_count": 9,
   "metadata": {
    "colab": {
     "base_uri": "https://localhost:8080/"
    },
    "id": "FydjXClxK3Ys",
    "outputId": "b361fabc-38d0-46bb-a2ae-fcf87716c496"
   },
   "outputs": [
    {
     "name": "stdout",
     "output_type": "stream",
     "text": [
      "Restricted license - for non-production use only - expires 2024-10-28\n"
     ]
    }
   ],
   "source": [
    "# Initialize model\n",
    "model = gp.Model(\"MIP_Model\")"
   ]
  },
  {
   "cell_type": "code",
   "execution_count": 10,
   "metadata": {
    "id": "Loj8VwDwK3fe"
   },
   "outputs": [],
   "source": [
    "# Number of projects in the data table\n",
    "numProjDev = df.shape[0]"
   ]
  },
  {
   "cell_type": "code",
   "execution_count": 11,
   "metadata": {
    "id": "CfkWLoy4K3mG"
   },
   "outputs": [],
   "source": [
    "# Add variables to the model\n",
    "x = model.addVars(numProjDev, vtype=GRB.INTEGER, name=\"quantity\")\n",
    "d = model.addVars(numProjDev, vtype=GRB.BINARY, name=\"devTF\")"
   ]
  },
  {
   "cell_type": "code",
   "execution_count": 12,
   "metadata": {
    "id": "oMQkCF7Sfxkj"
   },
   "outputs": [],
   "source": [
    "# Initialize the objective function\n",
    "obj = sum(elem1 * castRisk(elem2) for elem1, elem2 in zip(x, df['Grade'])) + penalty * Var(x, numProjDev)\n",
    "model.setObjective(obj, GRB.MINIMIZE)"
   ]
  },
  {
   "cell_type": "code",
   "execution_count": 13,
   "metadata": {
    "colab": {
     "base_uri": "https://localhost:8080/"
    },
    "id": "d2AR3XbBoMUQ",
    "outputId": "cb452c43-2b6c-4806-ac93-3250ee1ea264"
   },
   "outputs": [
    {
     "data": {
      "text/plain": [
       "<gurobi.Constr *Awaiting Model Update*>"
      ]
     },
     "execution_count": 13,
     "metadata": {},
     "output_type": "execute_result"
    }
   ],
   "source": [
    "# Constraints\n",
    "model.addConstr(gp.quicksum(df['Dollar'][i]*x[i] for i in range(numProjDev)) <= 10000, \"price\")\n",
    "for i in range(numProjDev):\n",
    "    model.addConstr(x[i] <= df[\"Quantity\"][i], \"quantity\")\n",
    "    model.addConstr(d[i] * x[i] - x[i] >= -0.5, \"1st binary constraint\")\n",
    "    model.addConstr(d[i] * x[i] - d[i] >= -0.5, \"2nd binary constraint\")\n",
    "    model.addConstr(x[i] / quota <= 0.05, \"maximum concentration of each project\")\n",
    "model.addConstr(gp.quicksum(d[i] for i in range(numProjDev)) >= 20, \"\")\n",
    "model.addConstr(distinct(d, df['Vintage'], numProjDev) >= 1, \"vintage\")\n",
    "model.addConstr(distinct(d, df['Registry'], numProjDev) >= 1, \"registry\")\n",
    "model.addConstr(distinct(d, df['Location'], numProjDev) >= 1, \"location\")\n",
    "model.addConstr(distinct(d, df['Mechanism'], numProjDev) >= 1, \"mechanism\")\n",
    "model.addConstr(distinct(d, df['Type'], numProjDev) >= 1, \"typeProject\")\n",
    "model.addConstr(gp.quicksum(x[i] for i in range(numProjDev)) >= quota, \"quota\")"
   ]
  },
  {
   "cell_type": "code",
   "execution_count": 14,
   "metadata": {
    "colab": {
     "base_uri": "https://localhost:8080/",
     "height": 304
    },
    "id": "cGPLq6bttHwW",
    "outputId": "259989d1-915d-40fc-dc49-57ad28c6b0bc"
   },
   "outputs": [
    {
     "name": "stdout",
     "output_type": "stream",
     "text": [
      "Gurobi Optimizer version 10.0.3 build v10.0.3rc0 (mac64[rosetta2])\n",
      "\n",
      "CPU model: Apple M1 Max\n",
      "Thread count: 10 physical cores, 10 logical processors, using up to 10 threads\n",
      "\n",
      "Optimize a model with 168 rows, 160 columns and 400 nonzeros\n",
      "Model fingerprint: 0x96e6ff29\n",
      "Model has 160 quadratic constraints\n",
      "Variable types: 0 continuous, 160 integer (80 binary)\n",
      "Coefficient statistics:\n",
      "  Matrix range     [5e-03, 2e+03]\n",
      "  QMatrix range    [1e+00, 1e+00]\n",
      "  QLMatrix range   [1e+00, 1e+00]\n",
      "  Objective range  [0e+00, 0e+00]\n",
      "  Bounds range     [1e+00, 1e+00]\n",
      "  RHS range        [5e-02, 5e+05]\n",
      "  QRHS range       [5e-01, 5e-01]\n",
      "Presolve removed 7 rows and 1 columns\n",
      "Presolve time: 0.00s\n",
      "Presolved: 161 rows, 159 columns, 556 nonzeros\n",
      "Variable types: 0 continuous, 159 integer (80 binary)\n",
      "Found heuristic solution: objective 66340.316456\n",
      "\n",
      "Explored 0 nodes (0 simplex iterations) in 0.01 seconds (0.00 work units)\n",
      "Thread count was 10 (of 10 available processors)\n",
      "\n",
      "Solution count 1: 66340.3 \n",
      "\n",
      "Optimal solution found (tolerance 1.00e-04)\n",
      "Best objective 6.634031645570e+04, best bound 6.634031645570e+04, gap 0.0000%\n"
     ]
    }
   ],
   "source": [
    "# Optimization\n",
    "model.optimize()"
   ]
  },
  {
   "cell_type": "code",
   "execution_count": 15,
   "metadata": {},
   "outputs": [
    {
     "name": "stdout",
     "output_type": "stream",
     "text": [
      "quantity[0] = -0.0\n",
      "quantity[1] = 6.0\n",
      "quantity[2] = 10.0\n",
      "quantity[3] = -0.0\n",
      "quantity[4] = -0.0\n",
      "quantity[5] = -0.0\n",
      "quantity[6] = -0.0\n",
      "quantity[7] = -0.0\n",
      "quantity[8] = -0.0\n",
      "quantity[9] = -0.0\n",
      "quantity[10] = -0.0\n",
      "quantity[11] = -0.0\n",
      "quantity[12] = -0.0\n",
      "quantity[13] = -0.0\n",
      "quantity[14] = -0.0\n",
      "quantity[15] = -0.0\n",
      "quantity[16] = 1.0\n",
      "quantity[17] = -0.0\n",
      "quantity[18] = -0.0\n",
      "quantity[19] = -0.0\n",
      "quantity[20] = -0.0\n",
      "quantity[21] = -0.0\n",
      "quantity[22] = -0.0\n",
      "quantity[23] = 10.0\n",
      "quantity[24] = -0.0\n",
      "quantity[25] = -0.0\n",
      "quantity[26] = -0.0\n",
      "quantity[27] = -0.0\n",
      "quantity[28] = -0.0\n",
      "quantity[29] = -0.0\n",
      "quantity[30] = -0.0\n",
      "quantity[31] = -0.0\n",
      "quantity[32] = -0.0\n",
      "quantity[33] = -0.0\n",
      "quantity[34] = -0.0\n",
      "quantity[35] = -0.0\n",
      "quantity[36] = -0.0\n",
      "quantity[37] = -0.0\n",
      "quantity[38] = -0.0\n",
      "quantity[39] = -0.0\n",
      "quantity[40] = -0.0\n",
      "quantity[41] = -0.0\n",
      "quantity[42] = -0.0\n",
      "quantity[43] = -0.0\n",
      "quantity[44] = -0.0\n",
      "quantity[45] = -0.0\n",
      "quantity[46] = -0.0\n",
      "quantity[47] = -0.0\n",
      "quantity[48] = -0.0\n",
      "quantity[49] = -0.0\n",
      "quantity[50] = -0.0\n",
      "quantity[51] = -0.0\n",
      "quantity[52] = -0.0\n",
      "quantity[53] = -0.0\n",
      "quantity[54] = -0.0\n",
      "quantity[55] = -0.0\n",
      "quantity[56] = -0.0\n",
      "quantity[57] = -0.0\n",
      "quantity[58] = -0.0\n",
      "quantity[59] = -0.0\n",
      "quantity[60] = -0.0\n",
      "quantity[61] = -0.0\n",
      "quantity[62] = 10.0\n",
      "quantity[63] = 10.0\n",
      "quantity[64] = 10.0\n",
      "quantity[65] = 10.0\n",
      "quantity[66] = 10.0\n",
      "quantity[67] = 6.0\n",
      "quantity[68] = 10.0\n",
      "quantity[69] = 10.0\n",
      "quantity[70] = 10.0\n",
      "quantity[71] = 10.0\n",
      "quantity[72] = 10.0\n",
      "quantity[73] = 10.0\n",
      "quantity[74] = 10.0\n",
      "quantity[75] = 10.0\n",
      "quantity[76] = 10.0\n",
      "quantity[77] = 10.0\n",
      "quantity[78] = 10.0\n",
      "quantity[79] = 7.0\n",
      "devTF[0] = -0.0\n",
      "devTF[1] = 1.0\n",
      "devTF[2] = 1.0\n",
      "devTF[3] = -0.0\n",
      "devTF[4] = -0.0\n",
      "devTF[5] = -0.0\n",
      "devTF[6] = -0.0\n",
      "devTF[7] = -0.0\n",
      "devTF[8] = -0.0\n",
      "devTF[9] = -0.0\n",
      "devTF[10] = -0.0\n",
      "devTF[11] = -0.0\n",
      "devTF[12] = -0.0\n",
      "devTF[13] = -0.0\n",
      "devTF[14] = -0.0\n",
      "devTF[15] = -0.0\n",
      "devTF[16] = 1.0\n",
      "devTF[17] = -0.0\n",
      "devTF[18] = -0.0\n",
      "devTF[19] = -0.0\n",
      "devTF[20] = -0.0\n",
      "devTF[21] = -0.0\n",
      "devTF[22] = -0.0\n",
      "devTF[23] = 1.0\n",
      "devTF[24] = -0.0\n",
      "devTF[25] = -0.0\n",
      "devTF[26] = -0.0\n",
      "devTF[27] = -0.0\n",
      "devTF[28] = -0.0\n",
      "devTF[29] = -0.0\n",
      "devTF[30] = -0.0\n",
      "devTF[31] = -0.0\n",
      "devTF[32] = -0.0\n",
      "devTF[33] = -0.0\n",
      "devTF[34] = -0.0\n",
      "devTF[35] = -0.0\n",
      "devTF[36] = -0.0\n",
      "devTF[37] = -0.0\n",
      "devTF[38] = -0.0\n",
      "devTF[39] = -0.0\n",
      "devTF[40] = -0.0\n",
      "devTF[41] = -0.0\n",
      "devTF[42] = -0.0\n",
      "devTF[43] = -0.0\n",
      "devTF[44] = -0.0\n",
      "devTF[45] = -0.0\n",
      "devTF[46] = -0.0\n",
      "devTF[47] = -0.0\n",
      "devTF[48] = -0.0\n",
      "devTF[49] = -0.0\n",
      "devTF[50] = -0.0\n",
      "devTF[51] = -0.0\n",
      "devTF[52] = -0.0\n",
      "devTF[53] = -0.0\n",
      "devTF[54] = -0.0\n",
      "devTF[55] = -0.0\n",
      "devTF[56] = -0.0\n",
      "devTF[57] = -0.0\n",
      "devTF[58] = -0.0\n",
      "devTF[59] = -0.0\n",
      "devTF[60] = -0.0\n",
      "devTF[61] = -0.0\n",
      "devTF[62] = 1.0\n",
      "devTF[63] = 1.0\n",
      "devTF[64] = 1.0\n",
      "devTF[65] = 1.0\n",
      "devTF[66] = 1.0\n",
      "devTF[67] = 1.0\n",
      "devTF[68] = 1.0\n",
      "devTF[69] = 1.0\n",
      "devTF[70] = 1.0\n",
      "devTF[71] = 1.0\n",
      "devTF[72] = 1.0\n",
      "devTF[73] = 1.0\n",
      "devTF[74] = 1.0\n",
      "devTF[75] = 1.0\n",
      "devTF[76] = 1.0\n",
      "devTF[77] = 1.0\n",
      "devTF[78] = 1.0\n",
      "devTF[79] = 1.0\n"
     ]
    }
   ],
   "source": [
    "# Results\n",
    "for v in model.getVars():\n",
    "    print(f\"{v.varName} = {v.x}\")"
   ]
  }
 ],
 "metadata": {
  "colab": {
   "provenance": []
  },
  "kernelspec": {
   "display_name": "Python 3 (ipykernel)",
   "language": "python",
   "name": "python3"
  },
  "language_info": {
   "codemirror_mode": {
    "name": "ipython",
    "version": 3
   },
   "file_extension": ".py",
   "mimetype": "text/x-python",
   "name": "python",
   "nbconvert_exporter": "python",
   "pygments_lexer": "ipython3",
   "version": "3.9.7"
  }
 },
 "nbformat": 4,
 "nbformat_minor": 1
}
