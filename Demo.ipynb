{
 "cells": [
  {
   "cell_type": "code",
   "execution_count": 6,
   "metadata": {},
   "outputs": [],
   "source": [
    "# import the necessary libraries\n",
    "\n",
    "import math\n",
    "import pandas as pd\n",
    "import gurobipy as gp\n",
    "from gurobipy import GRB"
   ]
  },
  {
   "cell_type": "code",
   "execution_count": 7,
   "metadata": {},
   "outputs": [],
   "source": [
    "# define helper functions\n",
    "\n",
    "# maps risk CATEGORICAL to natural number system (1-5)\n",
    "def castRisk(character):\n",
    "    mapping = {'A': 1, 'B': 2, 'C': 3, 'D': 4, 'F': 6}\n",
    "    if character in mapping.keys():\n",
    "        return mapping[character]\n",
    "    \n",
    "#-------------------------------------------------------------------\n",
    "# returns how many distinct values are in var\n",
    "def distinct(d, var, num):\n",
    "    \"\"\"\n",
    "    input:\n",
    "    d: a list of binary numbers representing whether we purchase credits from some project developers\n",
    "    var: a list of (homogeneous) objects representing the optimized combination\n",
    "    num: length of var\n",
    "    \"\"\"\n",
    "\n",
    "    modVar = []\n",
    "    for index in range(num):\n",
    "        if d[index]:\n",
    "            modVar.append(var[index])\n",
    "    occurence = {}\n",
    "    for item in modVar:\n",
    "        if item not in occurence.keys():\n",
    "            occurence[item] = 1\n",
    "        else:\n",
    "            occurence[item] = occurence[item] + 1\n",
    "    return len(occurence.keys())\n",
    "\n",
    "#-------------------------------------------------------------------\n",
    "# returns variance of x\n",
    "def Var(x, num):\n",
    "    \"\"\"\n",
    "    input:\n",
    "    x: a list of integers representing the optimized combination\n",
    "    num: length of x\n",
    "    \"\"\"\n",
    "\n",
    "    Xsum = 0\n",
    "    for num in x:\n",
    "        Xsum = Xsum + num\n",
    "    mean = Xsum / num\n",
    "    sq_sum = 0\n",
    "    for num in x:\n",
    "        sq_sum = sq_sum + (num - mean)**2\n",
    "    return sq_sum / num\n",
    "\n",
    "#-------------------------------------------------------------------\n",
    "# returns the number of occurrences of proj in var\n",
    "def occurrence(df, d, var, num, proj):\n",
    "    \"\"\"\n",
    "    input:\n",
    "    d: a list of binary numbers representing whether we purchase credits from some project developers\n",
    "    var: a list of integers representing the optimized combination\n",
    "    num: length of var\n",
    "    proj: a string representing the risk grade of the project ('A', 'B', 'C', 'D', 'F')\n",
    "    \"\"\"\n",
    "    \n",
    "    count = 0\n",
    "    for index in range(num):\n",
    "        if d[index]:\n",
    "            if df['Grade'][index] == proj:\n",
    "                count = count + var[index]\n",
    "    return count\n",
    "\n",
    "#-------------------------------------------------------------------"
   ]
  },
  {
   "cell_type": "code",
   "execution_count": 12,
   "metadata": {},
   "outputs": [
    {
     "name": "stdout",
     "output_type": "stream",
     "text": [
      "<class 'pandas.core.frame.DataFrame'>\n",
      "Int64Index: 79 entries, 0 to 78\n",
      "Data columns (total 11 columns):\n",
      " #   Column             Non-Null Count  Dtype  \n",
      "---  ------             --------------  -----  \n",
      " 0   Project Title      79 non-null     object \n",
      " 1   Location           79 non-null     object \n",
      " 2   Project Developer  79 non-null     object \n",
      " 3   Type               79 non-null     object \n",
      " 4   Mechanism          79 non-null     object \n",
      " 5   Vintage            79 non-null     float64\n",
      " 6   Quantity           79 non-null     float64\n",
      " 7   Dollar             79 non-null     float64\n",
      " 8   Registry           79 non-null     object \n",
      " 9   Standard           79 non-null     object \n",
      " 10  Grade              79 non-null     object \n",
      "dtypes: float64(3), object(8)\n",
      "memory usage: 7.4+ KB\n"
     ]
    }
   ],
   "source": [
    "# Import the data\n",
    "fileName = '/Users/michael_khalfin/Downloads/Book7.xlsx'\n",
    "df = pd.read_excel(fileName)\n",
    "df = df.dropna()\n",
    "df.info()"
   ]
  },
  {
   "cell_type": "code",
   "execution_count": 13,
   "metadata": {},
   "outputs": [
    {
     "data": {
      "text/html": [
       "<div>\n",
       "<style scoped>\n",
       "    .dataframe tbody tr th:only-of-type {\n",
       "        vertical-align: middle;\n",
       "    }\n",
       "\n",
       "    .dataframe tbody tr th {\n",
       "        vertical-align: top;\n",
       "    }\n",
       "\n",
       "    .dataframe thead th {\n",
       "        text-align: right;\n",
       "    }\n",
       "</style>\n",
       "<table border=\"1\" class=\"dataframe\">\n",
       "  <thead>\n",
       "    <tr style=\"text-align: right;\">\n",
       "      <th></th>\n",
       "      <th>Project Title</th>\n",
       "      <th>Location</th>\n",
       "      <th>Project Developer</th>\n",
       "      <th>Type</th>\n",
       "      <th>Mechanism</th>\n",
       "      <th>Vintage</th>\n",
       "      <th>Quantity</th>\n",
       "      <th>Dollar</th>\n",
       "      <th>Registry</th>\n",
       "      <th>Standard</th>\n",
       "      <th>Grade</th>\n",
       "    </tr>\n",
       "  </thead>\n",
       "  <tbody>\n",
       "    <tr>\n",
       "      <th>0</th>\n",
       "      <td>Promoting hydroelectric green energy in India</td>\n",
       "      <td>India</td>\n",
       "      <td>EVI Green Markets Pte. Ltd</td>\n",
       "      <td>Hydropower</td>\n",
       "      <td>Avoidance</td>\n",
       "      <td>2019.0</td>\n",
       "      <td>2617.0</td>\n",
       "      <td>2.6300</td>\n",
       "      <td>CDM</td>\n",
       "      <td>CDM</td>\n",
       "      <td>B</td>\n",
       "    </tr>\n",
       "    <tr>\n",
       "      <th>1</th>\n",
       "      <td>Promoting hydroelectric green energy in India</td>\n",
       "      <td>India</td>\n",
       "      <td>EVI Green Markets Pte. Ltd</td>\n",
       "      <td>Hydropower</td>\n",
       "      <td>Avoidance</td>\n",
       "      <td>2018.0</td>\n",
       "      <td>20000.0</td>\n",
       "      <td>2.6300</td>\n",
       "      <td>CDM</td>\n",
       "      <td>CDM</td>\n",
       "      <td>B</td>\n",
       "    </tr>\n",
       "    <tr>\n",
       "      <th>2</th>\n",
       "      <td>Promoting hydroelectric green energy in India</td>\n",
       "      <td>India</td>\n",
       "      <td>EVI Green Markets Pte. Ltd</td>\n",
       "      <td>Hydropower</td>\n",
       "      <td>Avoidance</td>\n",
       "      <td>2017.0</td>\n",
       "      <td>20000.0</td>\n",
       "      <td>2.6300</td>\n",
       "      <td>CDM</td>\n",
       "      <td>CDM</td>\n",
       "      <td>B</td>\n",
       "    </tr>\n",
       "    <tr>\n",
       "      <th>3</th>\n",
       "      <td>The Nut Collectors | Guardians of the Forest</td>\n",
       "      <td>Peru</td>\n",
       "      <td>Bosques Amazónicos</td>\n",
       "      <td>REDD+</td>\n",
       "      <td>Avoidance</td>\n",
       "      <td>2020.0</td>\n",
       "      <td>29500.0</td>\n",
       "      <td>11.2564</td>\n",
       "      <td>Verra</td>\n",
       "      <td>VCS</td>\n",
       "      <td>F</td>\n",
       "    </tr>\n",
       "    <tr>\n",
       "      <th>4</th>\n",
       "      <td>The Nut Collectors | Guardians of the Forest</td>\n",
       "      <td>Peru</td>\n",
       "      <td>Bosques Amazónicos</td>\n",
       "      <td>REDD+</td>\n",
       "      <td>Avoidance</td>\n",
       "      <td>2018.0</td>\n",
       "      <td>30000.0</td>\n",
       "      <td>10.0152</td>\n",
       "      <td>Verra</td>\n",
       "      <td>VCS</td>\n",
       "      <td>F</td>\n",
       "    </tr>\n",
       "    <tr>\n",
       "      <th>5</th>\n",
       "      <td>Promoting green energy innovation in Brazil</td>\n",
       "      <td>Brazil</td>\n",
       "      <td>Rima Industrial S/A</td>\n",
       "      <td>Other (Chemical Industrial)</td>\n",
       "      <td>Avoidance</td>\n",
       "      <td>2020.0</td>\n",
       "      <td>40672.0</td>\n",
       "      <td>3.1244</td>\n",
       "      <td>CDM</td>\n",
       "      <td>CDM</td>\n",
       "      <td>B</td>\n",
       "    </tr>\n",
       "    <tr>\n",
       "      <th>6</th>\n",
       "      <td>Promoting green energy innovation in Brazil</td>\n",
       "      <td>Brazil</td>\n",
       "      <td>Rima Industrial S/A</td>\n",
       "      <td>Other (Chemical Industrial)</td>\n",
       "      <td>Avoidance</td>\n",
       "      <td>2013.0</td>\n",
       "      <td>237240.0</td>\n",
       "      <td>3.1244</td>\n",
       "      <td>CDM</td>\n",
       "      <td>CDM</td>\n",
       "      <td>B</td>\n",
       "    </tr>\n",
       "    <tr>\n",
       "      <th>7</th>\n",
       "      <td>Promoting green energy innovation in Brazil</td>\n",
       "      <td>Brazil</td>\n",
       "      <td>Rima Industrial S/A</td>\n",
       "      <td>Other (Chemical Industrial)</td>\n",
       "      <td>Avoidance</td>\n",
       "      <td>2012.0</td>\n",
       "      <td>126585.0</td>\n",
       "      <td>2.0116</td>\n",
       "      <td>CDM</td>\n",
       "      <td>CDM</td>\n",
       "      <td>B</td>\n",
       "    </tr>\n",
       "    <tr>\n",
       "      <th>8</th>\n",
       "      <td>Promoting green energy innovation in Brazil</td>\n",
       "      <td>Brazil</td>\n",
       "      <td>Rima Industrial S/A</td>\n",
       "      <td>Other (Chemical Industrial)</td>\n",
       "      <td>Avoidance</td>\n",
       "      <td>2011.0</td>\n",
       "      <td>83248.0</td>\n",
       "      <td>2.0116</td>\n",
       "      <td>CDM</td>\n",
       "      <td>CDM</td>\n",
       "      <td>B</td>\n",
       "    </tr>\n",
       "    <tr>\n",
       "      <th>9</th>\n",
       "      <td>Promoting green energy innovation in Brazil</td>\n",
       "      <td>Brazil</td>\n",
       "      <td>Rima Industrial S/A</td>\n",
       "      <td>Other (Chemical Industrial)</td>\n",
       "      <td>Avoidance</td>\n",
       "      <td>2010.0</td>\n",
       "      <td>43554.0</td>\n",
       "      <td>2.0116</td>\n",
       "      <td>CDM</td>\n",
       "      <td>CDM</td>\n",
       "      <td>B</td>\n",
       "    </tr>\n",
       "  </tbody>\n",
       "</table>\n",
       "</div>"
      ],
      "text/plain": [
       "                                   Project Title Location  \\\n",
       "0  Promoting hydroelectric green energy in India    India   \n",
       "1  Promoting hydroelectric green energy in India    India   \n",
       "2  Promoting hydroelectric green energy in India    India   \n",
       "3   The Nut Collectors | Guardians of the Forest     Peru   \n",
       "4   The Nut Collectors | Guardians of the Forest     Peru   \n",
       "5    Promoting green energy innovation in Brazil   Brazil   \n",
       "6    Promoting green energy innovation in Brazil   Brazil   \n",
       "7    Promoting green energy innovation in Brazil   Brazil   \n",
       "8    Promoting green energy innovation in Brazil   Brazil   \n",
       "9    Promoting green energy innovation in Brazil   Brazil   \n",
       "\n",
       "            Project Developer                         Type  Mechanism  \\\n",
       "0  EVI Green Markets Pte. Ltd                   Hydropower  Avoidance   \n",
       "1  EVI Green Markets Pte. Ltd                   Hydropower  Avoidance   \n",
       "2  EVI Green Markets Pte. Ltd                   Hydropower  Avoidance   \n",
       "3          Bosques Amazónicos                        REDD+  Avoidance   \n",
       "4          Bosques Amazónicos                        REDD+  Avoidance   \n",
       "5         Rima Industrial S/A  Other (Chemical Industrial)  Avoidance   \n",
       "6         Rima Industrial S/A  Other (Chemical Industrial)  Avoidance   \n",
       "7         Rima Industrial S/A  Other (Chemical Industrial)  Avoidance   \n",
       "8         Rima Industrial S/A  Other (Chemical Industrial)  Avoidance   \n",
       "9         Rima Industrial S/A  Other (Chemical Industrial)  Avoidance   \n",
       "\n",
       "   Vintage  Quantity   Dollar Registry Standard Grade  \n",
       "0   2019.0    2617.0   2.6300      CDM      CDM     B  \n",
       "1   2018.0   20000.0   2.6300      CDM      CDM     B  \n",
       "2   2017.0   20000.0   2.6300      CDM      CDM     B  \n",
       "3   2020.0   29500.0  11.2564    Verra      VCS     F  \n",
       "4   2018.0   30000.0  10.0152    Verra      VCS     F  \n",
       "5   2020.0   40672.0   3.1244      CDM      CDM     B  \n",
       "6   2013.0  237240.0   3.1244      CDM      CDM     B  \n",
       "7   2012.0  126585.0   2.0116      CDM      CDM     B  \n",
       "8   2011.0   83248.0   2.0116      CDM      CDM     B  \n",
       "9   2010.0   43554.0   2.0116      CDM      CDM     B  "
      ]
     },
     "execution_count": 13,
     "metadata": {},
     "output_type": "execute_result"
    }
   ],
   "source": [
    "df.head(10)"
   ]
  },
  {
   "cell_type": "code",
   "execution_count": 16,
   "metadata": {},
   "outputs": [
    {
     "data": {
      "application/vnd.jupyter.widget-view+json": {
       "model_id": "235f6956c3ac4d28b44a86ded0fda3fb",
       "version_major": 2,
       "version_minor": 0
      },
      "text/plain": [
       "Text(value='100000', description='Budget:', placeholder='100000')"
      ]
     },
     "metadata": {},
     "output_type": "display_data"
    },
    {
     "data": {
      "application/vnd.jupyter.widget-view+json": {
       "model_id": "2fc90fce46454b859412525b781ca1eb",
       "version_major": 2,
       "version_minor": 0
      },
      "text/plain": [
       "Text(value='10000', description='Deficit:', placeholder='10000')"
      ]
     },
     "metadata": {},
     "output_type": "display_data"
    },
    {
     "data": {
      "application/vnd.jupyter.widget-view+json": {
       "model_id": "b0ce5238dc254d908f71aca2a868eea0",
       "version_major": 2,
       "version_minor": 0
      },
      "text/plain": [
       "Dropdown(description='Select:', options=('Low', 'Medium', 'High'), value='Low')"
      ]
     },
     "metadata": {},
     "output_type": "display_data"
    }
   ],
   "source": [
    "import ipywidgets as widgets\n",
    "from IPython.display import display\n",
    "\n",
    "# Create text input widgets\n",
    "budgetInput = widgets.Text(\n",
    "    value='100000',  # Initial value of the text input\n",
    "    placeholder='100000',  # Placeholder text\n",
    "    description='Budget:',  # Label for the input field\n",
    "    disabled=False  # Set to True to disable input\n",
    ")\n",
    "deficitInput = widgets.Text(\n",
    "    value='10000',  # Initial value of the text input\n",
    "    placeholder='10000',  # Placeholder text\n",
    "    description='Deficit:',  # Label for the input field\n",
    "    disabled=False  # Set to True to disable input\n",
    ")\n",
    "# Create a dropdown widget\n",
    "options = [\"Low\", \"Medium\", \"High\"]\n",
    "riskDropdown = widgets.Dropdown(\n",
    "    options=options,     # List of options\n",
    "    value=options[0],    # Initial selected option\n",
    "    description='Select:',  # Label for the dropdown\n",
    "    disabled=False       # Set to True to disable the dropdown\n",
    ")\n",
    "\n",
    "# Display the text input widget\n",
    "display(budgetInput)\n",
    "display(deficitInput)\n",
    "display(riskDropdown)"
   ]
  },
  {
   "cell_type": "code",
   "execution_count": 17,
   "metadata": {},
   "outputs": [],
   "source": [
    "# Save the values\n",
    "budget = budgetInput.value\n",
    "budget = int(budget)\n",
    "deficit = deficitInput.value\n",
    "deficit = int(deficit)\n",
    "\n",
    "# Low, Medium, High\n",
    "if riskDropdown.value == \"low\":\n",
    "    pct = .05\n",
    "elif riskDropdown.value == \"medium\":\n",
    "    pct = .07\n",
    "else:\n",
    "    pct = .1"
   ]
  },
  {
   "cell_type": "code",
   "execution_count": 19,
   "metadata": {},
   "outputs": [],
   "source": [
    "# Verify values satisfy some basic requirements\n",
    "\n",
    "# 1. check if budget is big enough\n",
    "truncated = df.sort_values(by=\"Dollar\", ascending=True)[[\"Dollar\", \"Quantity\"]]\n",
    "amt = 0\n",
    "total_quantity = 0\n",
    "for index, row in truncated.iterrows():\n",
    "    price = row[\"Dollar\"]\n",
    "    quantity = row[\"Quantity\"]\n",
    "    for i in range(int(quantity)):\n",
    "        if total_quantity >= deficit:\n",
    "            break\n",
    "        amt += price\n",
    "        total_quantity += 1\n",
    "    if total_quantity >= deficit:\n",
    "        break\n",
    "\n",
    "if not (budget >= amt):\n",
    "    raise ValueError(\"Budget is out of bounds\")\n",
    "\n",
    "# 2. check if deficit is small enough\n",
    "if not (deficit <= df[\"Quantity\"].sum()):\n",
    "    raise ValueError(\"Deficit is out of bounds\")\n",
    "\n",
    "# 3. check if all values are positive\n",
    "if not (budget >= 0 and deficit >= 0):\n",
    "    raise ValueError(\"Negative values are not allowed\")"
   ]
  },
  {
   "cell_type": "code",
   "execution_count": 25,
   "metadata": {},
   "outputs": [
    {
     "name": "stdout",
     "output_type": "stream",
     "text": [
      "Gurobi Optimizer version 9.5.2 build v9.5.2rc0 (mac64[rosetta2])\n",
      "Thread count: 8 physical cores, 8 logical processors, using up to 8 threads\n",
      "Optimize a model with 166 rows, 164 columns and 401 nonzeros\n",
      "Model fingerprint: 0x67c94177\n",
      "Model has 158 quadratic constraints\n",
      "Variable types: 0 continuous, 164 integer (79 binary)\n",
      "Coefficient statistics:\n",
      "  Matrix range     [1e-04, 2e+03]\n",
      "  QMatrix range    [1e+00, 1e+00]\n",
      "  QLMatrix range   [1e+00, 1e+00]\n",
      "  Objective range  [1e+00, 1e+00]\n",
      "  Bounds range     [1e+00, 1e+00]\n",
      "  RHS range        [1e-01, 5e+05]\n",
      "  QRHS range       [1e-01, 1e-01]\n",
      "Presolve removed 8 rows and 7 columns\n",
      "Presolve time: 0.00s\n",
      "Presolved: 158 rows, 157 columns, 470 nonzeros\n",
      "Variable types: 0 continuous, 157 integer (79 binary)\n",
      "Found heuristic solution: objective 39.0000000\n",
      "\n",
      "Explored 0 nodes (0 simplex iterations) in 0.01 seconds (0.00 work units)\n",
      "Thread count was 8 (of 8 available processors)\n",
      "\n",
      "Solution count 1: 39 \n",
      "\n",
      "Optimal solution found (tolerance 1.00e-04)\n",
      "Best objective 3.900000000000e+01, best bound 3.900000000000e+01, gap 0.0000%\n"
     ]
    }
   ],
   "source": [
    "# Optimization #1: \"Big\" Optimization\n",
    "\n",
    "# Initialize model\n",
    "model = gp.Model(\"MIP_Model\")\n",
    "\n",
    "# Number of projects in the data table\n",
    "numProjDev = df.shape[0]\n",
    "\n",
    "# Add variables to the model\n",
    "x = model.addVars(numProjDev, vtype=GRB.INTEGER, name=\"quantity\")\n",
    "d = model.addVars(numProjDev, vtype=GRB.BINARY, name=\"devTF\")\n",
    "dbar = model.addVar(vtype=GRB.INTEGER, name=\"amtDevs\")\n",
    "v = model.addVar(vtype=GRB.INTEGER, name=\"amtVintage\")\n",
    "r = model.addVar(vtype=GRB.INTEGER, name=\"amtRegistry\")\n",
    "l = model.addVar(vtype=GRB.INTEGER, name=\"amtLocations\")\n",
    "m = model.addVar(vtype=GRB.INTEGER, name=\"amtMechanisms\")\n",
    "t = model.addVar(vtype=GRB.INTEGER, name=\"amtTypes\")\n",
    "\n",
    "# Initialize the objective function\n",
    "# location, type, and registry are the most important factors\n",
    "obj = l + t + r - dbar - v - m\n",
    "model.setObjective(obj, GRB.MAXIMIZE)\n",
    "\n",
    "# Constraints\n",
    "model.addConstr(gp.quicksum(df['Dollar'][i]*x[i] for i in range(numProjDev)) <= budget, \"price\")\n",
    "for i in range(numProjDev):\n",
    "    model.addConstr(x[i] <= df[\"Quantity\"][i], \"quantity\")\n",
    "    model.addConstr(d[i] * x[i] - x[i] >= -1*pct, \"1st binary constraint\")\n",
    "    model.addConstr(d[i] * x[i] - d[i] >= -1*pct, \"2nd binary constraint\")\n",
    "    model.addConstr(x[i] / deficit <= pct, \"maximum concentration of each project\")\n",
    "model.addConstr(gp.quicksum(d[i] for i in range(numProjDev)) - dbar >= 0, \"num of devs\")\n",
    "model.addConstr(distinct(d, df['Vintage'], numProjDev) - v >= 0, \"vintage\")\n",
    "model.addConstr(distinct(d, df['Registry'], numProjDev) - r >= 0, \"registry\")\n",
    "model.addConstr(distinct(d, df['Location'], numProjDev) - l >= 0, \"location\")\n",
    "model.addConstr(distinct(d, df['Mechanism'], numProjDev) - m >= 0, \"mechanism\")\n",
    "model.addConstr(distinct(d, df['Type'], numProjDev) - t >= 0, \"typeProject\")\n",
    "model.addConstr(gp.quicksum(x[i] for i in range(numProjDev)) >= deficit, \"deficit\")\n",
    "\n",
    "# Optimization\n",
    "model.optimize()"
   ]
  },
  {
   "cell_type": "code",
   "execution_count": 26,
   "metadata": {},
   "outputs": [
    {
     "data": {
      "text/plain": [
       "{'amtDevs': -0.0,\n",
       " 'amtVintage': -0.0,\n",
       " 'amtRegistry': 10.0,\n",
       " 'amtLocations': 17.0,\n",
       " 'amtMechanisms': -0.0,\n",
       " 'amtTypes': 12.0}"
      ]
     },
     "execution_count": 26,
     "metadata": {},
     "output_type": "execute_result"
    }
   ],
   "source": [
    "# Get the solution\n",
    "valueDict = {dbar.varName:dbar.X, v.varName:v.X, r.varName:r.X, l.varName:l.X, m.varName:m.X, t.varName:t.X}\n",
    "valueDict"
   ]
  },
  {
   "cell_type": "code",
   "execution_count": 40,
   "metadata": {},
   "outputs": [
    {
     "data": {
      "application/vnd.jupyter.widget-view+json": {
       "model_id": "dacc0bc2a39d4f929b0f2433ae4633f9",
       "version_major": 2,
       "version_minor": 0
      },
      "text/plain": [
       "HTML(value='<b>These are lower bounds:</b>')"
      ]
     },
     "metadata": {},
     "output_type": "display_data"
    },
    {
     "data": {
      "application/vnd.jupyter.widget-view+json": {
       "model_id": "08fa7a14872c462cbc9ee5c1aa8bd82b",
       "version_major": 2,
       "version_minor": 0
      },
      "text/plain": [
       "Text(value='0', description='Developers:')"
      ]
     },
     "metadata": {},
     "output_type": "display_data"
    },
    {
     "data": {
      "application/vnd.jupyter.widget-view+json": {
       "model_id": "261c753d83f74be7a56a5916fa3a400f",
       "version_major": 2,
       "version_minor": 0
      },
      "text/plain": [
       "Text(value='0', description='Vintage:')"
      ]
     },
     "metadata": {},
     "output_type": "display_data"
    },
    {
     "data": {
      "application/vnd.jupyter.widget-view+json": {
       "model_id": "3e0ceeb9108d43af952df4ca4ed351c4",
       "version_major": 2,
       "version_minor": 0
      },
      "text/plain": [
       "Text(value='10', description='Registry:')"
      ]
     },
     "metadata": {},
     "output_type": "display_data"
    },
    {
     "data": {
      "application/vnd.jupyter.widget-view+json": {
       "model_id": "44ee5e826ff34956ac4097bcb3672586",
       "version_major": 2,
       "version_minor": 0
      },
      "text/plain": [
       "Text(value='17', description='Locations:')"
      ]
     },
     "metadata": {},
     "output_type": "display_data"
    },
    {
     "data": {
      "application/vnd.jupyter.widget-view+json": {
       "model_id": "2780988f5af74c1ca677d40f8a5e2e76",
       "version_major": 2,
       "version_minor": 0
      },
      "text/plain": [
       "Text(value='0', description='Mechanisms:')"
      ]
     },
     "metadata": {},
     "output_type": "display_data"
    },
    {
     "data": {
      "application/vnd.jupyter.widget-view+json": {
       "model_id": "f35cf19d7c55422aaa8f5bf881f0351d",
       "version_major": 2,
       "version_minor": 0
      },
      "text/plain": [
       "Text(value='12', description='Types:')"
      ]
     },
     "metadata": {},
     "output_type": "display_data"
    }
   ],
   "source": [
    "# Create text input widgets\n",
    "headerText = widgets.HTML(\n",
    "    value=\"<b>These are lower bounds:</b>\",\n",
    "    #description='Static Text:',\n",
    ")\n",
    "amtDevs = widgets.Text(\n",
    "    value=str(int(valueDict[\"amtDevs\"])),  # Initial value of the text input\n",
    "    description='Developers:',  # Label for the input field\n",
    "    disabled=False  # Set to True to disable input\n",
    ")\n",
    "amtVintage = widgets.Text(\n",
    "    value=str(int(valueDict[\"amtVintage\"])),  # Initial value of the text input\n",
    "    description='Vintage:',  # Label for the input field\n",
    "    disabled=False  # Set to True to disable input\n",
    ")\n",
    "amtRegistry = widgets.Text(\n",
    "    value=str(int(valueDict[\"amtRegistry\"])),  # Initial value of the text input\n",
    "    description='Registry:',  # Label for the input field\n",
    "    disabled=False  # Set to True to disable input\n",
    ")\n",
    "amtLocations = widgets.Text(\n",
    "    value=str(int(valueDict[\"amtLocations\"])),  # Initial value of the text input\n",
    "    description='Locations:',  # Label for the input field\n",
    "    disabled=False  # Set to True to disable input\n",
    ")\n",
    "amtMechanisms = widgets.Text(\n",
    "    value=str(int(valueDict[\"amtMechanisms\"])),  # Initial value of the text input\n",
    "    description='Mechanisms:',  # Label for the input field\n",
    "    disabled=False  # Set to True to disable input\n",
    ")\n",
    "amtTypes = widgets.Text(\n",
    "    value=str(int(valueDict[\"amtTypes\"])),  # Initial value of the text input\n",
    "    description='Types:',  # Label for the input field\n",
    "    disabled=False  # Set to True to disable input\n",
    ")\n",
    "\n",
    "display(headerText)\n",
    "display(amtDevs)\n",
    "display(amtVintage)\n",
    "display(amtRegistry)\n",
    "display(amtLocations)\n",
    "display(amtMechanisms)\n",
    "display(amtTypes)"
   ]
  },
  {
   "cell_type": "code",
   "execution_count": 41,
   "metadata": {},
   "outputs": [],
   "source": [
    "# Save the values\n",
    "amtDevs = amtDevs.value\n",
    "amtDevs = int(amtDevs)\n",
    "\n",
    "amtVintage = amtVintage.value\n",
    "amtVintage = int(amtVintage)\n",
    "\n",
    "amtRegistry = amtRegistry.value\n",
    "amtRegistry = int(amtRegistry)\n",
    "\n",
    "amtLocations = amtLocations.value\n",
    "amtLocations = int(amtLocations)\n",
    "\n",
    "amtMechanisms = amtMechanisms.value\n",
    "amtMechanisms = int(amtMechanisms)\n",
    "\n",
    "amtTypes = amtTypes.value\n",
    "amtTypes = int(amtTypes)"
   ]
  },
  {
   "cell_type": "code",
   "execution_count": 37,
   "metadata": {},
   "outputs": [
    {
     "data": {
      "text/plain": [
       "0"
      ]
     },
     "execution_count": 37,
     "metadata": {},
     "output_type": "execute_result"
    }
   ],
   "source": [
    "amtTypes"
   ]
  }
 ],
 "metadata": {
  "kernelspec": {
   "display_name": "Python 3",
   "language": "python",
   "name": "python3"
  },
  "language_info": {
   "codemirror_mode": {
    "name": "ipython",
    "version": 3
   },
   "file_extension": ".py",
   "mimetype": "text/x-python",
   "name": "python",
   "nbconvert_exporter": "python",
   "pygments_lexer": "ipython3",
   "version": "3.9.7"
  },
  "orig_nbformat": 4
 },
 "nbformat": 4,
 "nbformat_minor": 2
}
