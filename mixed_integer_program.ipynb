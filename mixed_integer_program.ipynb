{
 "cells": [
  {
   "cell_type": "code",
   "execution_count": 1,
   "metadata": {
    "colab": {
     "base_uri": "https://localhost:8080/"
    },
    "id": "S8PC-ujnI81W",
    "outputId": "a80f0105-fc77-4814-d075-0b216fe3f982"
   },
   "outputs": [
    {
     "name": "stdout",
     "output_type": "stream",
     "text": [
      "Requirement already satisfied: gurobipy in /Users/michael_khalfin/opt/anaconda3/lib/python3.9/site-packages (9.5.2)\r\n"
     ]
    }
   ],
   "source": [
    "!pip install gurobipy"
   ]
  },
  {
   "cell_type": "code",
   "execution_count": 2,
   "metadata": {
    "colab": {
     "base_uri": "https://localhost:8080/",
     "height": 74
    },
    "id": "nA-QZCX7SYMp",
    "outputId": "e8e528c9-cfca-466a-880f-7c6aa6cadfd4"
   },
   "outputs": [],
   "source": [
    "#from google.colab import files\n",
    "#uploaded = files.upload()  # This will prompt you to select and upload a file."
   ]
  },
  {
   "cell_type": "code",
   "execution_count": 3,
   "metadata": {
    "id": "s7z-ZxwZK3QR"
   },
   "outputs": [],
   "source": [
    "import pandas as pd\n",
    "import gurobipy as gp\n",
    "from gurobipy import GRB"
   ]
  },
  {
   "cell_type": "code",
   "execution_count": 4,
   "metadata": {
    "id": "t6pQOoBMhvx0"
   },
   "outputs": [],
   "source": [
    "def castRisk(character):\n",
    "  mapping = {'A': 1, 'B': 2, 'C': 3, 'D': 4, 'F': 6}\n",
    "  if character in mapping.keys():\n",
    "    return mapping[character]\n",
    "  #else:\n",
    "  #  print(character)\n",
    "  #  return 1"
   ]
  },
  {
   "cell_type": "code",
   "execution_count": 5,
   "metadata": {
    "id": "1pSXH4p9d9Ec"
   },
   "outputs": [],
   "source": [
    "def distinct(d, var, num):\n",
    "    modVar = []\n",
    "    for index in range(num):\n",
    "        if d[index]:\n",
    "            modVar.append(var[index])\n",
    "    occurence = {}\n",
    "    for item in modVar:\n",
    "        if item not in occurence.keys():\n",
    "            occurence[item] = 1\n",
    "        else:\n",
    "            occurence[item] = occurence[item] + 1\n",
    "    return len(occurence.keys())"
   ]
  },
  {
   "cell_type": "code",
   "execution_count": 6,
   "metadata": {
    "id": "4KKoC1E5Sw3U"
   },
   "outputs": [],
   "source": [
    "df = pd.read_excel('/Users/michael_khalfin/Downloads/Book6.xlsx')\n",
    "df = df.head(33)"
   ]
  },
  {
   "cell_type": "code",
   "execution_count": 7,
   "metadata": {
    "colab": {
     "base_uri": "https://localhost:8080/",
     "height": 206
    },
    "id": "wZ3t590CTDbW",
    "outputId": "dea7f652-7df5-440a-f84c-a44d663b22d3"
   },
   "outputs": [
    {
     "data": {
      "text/html": [
       "<div>\n",
       "<style scoped>\n",
       "    .dataframe tbody tr th:only-of-type {\n",
       "        vertical-align: middle;\n",
       "    }\n",
       "\n",
       "    .dataframe tbody tr th {\n",
       "        vertical-align: top;\n",
       "    }\n",
       "\n",
       "    .dataframe thead th {\n",
       "        text-align: right;\n",
       "    }\n",
       "</style>\n",
       "<table border=\"1\" class=\"dataframe\">\n",
       "  <thead>\n",
       "    <tr style=\"text-align: right;\">\n",
       "      <th></th>\n",
       "      <th>Project Title</th>\n",
       "      <th>Location</th>\n",
       "      <th>Project Developer</th>\n",
       "      <th>Type</th>\n",
       "      <th>Mechanism</th>\n",
       "      <th>Vintage</th>\n",
       "      <th>Quantity</th>\n",
       "      <th>Dollar</th>\n",
       "      <th>Registry</th>\n",
       "      <th>Standard</th>\n",
       "      <th>Grade</th>\n",
       "    </tr>\n",
       "  </thead>\n",
       "  <tbody>\n",
       "    <tr>\n",
       "      <th>0</th>\n",
       "      <td>Promoting hydroelectric green energy in India</td>\n",
       "      <td>India</td>\n",
       "      <td>EVI Green Markets Pte. Ltd</td>\n",
       "      <td>Hydropower</td>\n",
       "      <td>Avoidance</td>\n",
       "      <td>2019.0</td>\n",
       "      <td>2617.0</td>\n",
       "      <td>2.6300</td>\n",
       "      <td>CDM</td>\n",
       "      <td>CDM</td>\n",
       "      <td>B</td>\n",
       "    </tr>\n",
       "    <tr>\n",
       "      <th>1</th>\n",
       "      <td>Promoting hydroelectric green energy in India</td>\n",
       "      <td>India</td>\n",
       "      <td>EVI Green Markets Pte. Ltd</td>\n",
       "      <td>Hydropower</td>\n",
       "      <td>Avoidance</td>\n",
       "      <td>2018.0</td>\n",
       "      <td>20000.0</td>\n",
       "      <td>2.6300</td>\n",
       "      <td>CDM</td>\n",
       "      <td>CDM</td>\n",
       "      <td>B</td>\n",
       "    </tr>\n",
       "    <tr>\n",
       "      <th>2</th>\n",
       "      <td>Promoting hydroelectric green energy in India</td>\n",
       "      <td>India</td>\n",
       "      <td>EVI Green Markets Pte. Ltd</td>\n",
       "      <td>Hydropower</td>\n",
       "      <td>Avoidance</td>\n",
       "      <td>2017.0</td>\n",
       "      <td>20000.0</td>\n",
       "      <td>2.6300</td>\n",
       "      <td>CDM</td>\n",
       "      <td>CDM</td>\n",
       "      <td>B</td>\n",
       "    </tr>\n",
       "    <tr>\n",
       "      <th>3</th>\n",
       "      <td>The Nut Collectors | Guardians of the Forest</td>\n",
       "      <td>Peru</td>\n",
       "      <td>Bosques Amazónicos</td>\n",
       "      <td>REDD+</td>\n",
       "      <td>Avoidance</td>\n",
       "      <td>2020.0</td>\n",
       "      <td>29500.0</td>\n",
       "      <td>11.2564</td>\n",
       "      <td>Verra</td>\n",
       "      <td>VCS</td>\n",
       "      <td>F</td>\n",
       "    </tr>\n",
       "    <tr>\n",
       "      <th>4</th>\n",
       "      <td>The Nut Collectors | Guardians of the Forest</td>\n",
       "      <td>Peru</td>\n",
       "      <td>Bosques Amazónicos</td>\n",
       "      <td>REDD+</td>\n",
       "      <td>Avoidance</td>\n",
       "      <td>2018.0</td>\n",
       "      <td>30000.0</td>\n",
       "      <td>10.0152</td>\n",
       "      <td>Verra</td>\n",
       "      <td>VCS</td>\n",
       "      <td>F</td>\n",
       "    </tr>\n",
       "  </tbody>\n",
       "</table>\n",
       "</div>"
      ],
      "text/plain": [
       "                                   Project Title Location  \\\n",
       "0  Promoting hydroelectric green energy in India    India   \n",
       "1  Promoting hydroelectric green energy in India    India   \n",
       "2  Promoting hydroelectric green energy in India    India   \n",
       "3   The Nut Collectors | Guardians of the Forest     Peru   \n",
       "4   The Nut Collectors | Guardians of the Forest     Peru   \n",
       "\n",
       "            Project Developer        Type  Mechanism  Vintage  Quantity  \\\n",
       "0  EVI Green Markets Pte. Ltd  Hydropower  Avoidance   2019.0    2617.0   \n",
       "1  EVI Green Markets Pte. Ltd  Hydropower  Avoidance   2018.0   20000.0   \n",
       "2  EVI Green Markets Pte. Ltd  Hydropower  Avoidance   2017.0   20000.0   \n",
       "3          Bosques Amazónicos       REDD+  Avoidance   2020.0   29500.0   \n",
       "4          Bosques Amazónicos       REDD+  Avoidance   2018.0   30000.0   \n",
       "\n",
       "    Dollar Registry Standard Grade  \n",
       "0   2.6300      CDM      CDM     B  \n",
       "1   2.6300      CDM      CDM     B  \n",
       "2   2.6300      CDM      CDM     B  \n",
       "3  11.2564    Verra      VCS     F  \n",
       "4  10.0152    Verra      VCS     F  "
      ]
     },
     "execution_count": 7,
     "metadata": {},
     "output_type": "execute_result"
    }
   ],
   "source": [
    "df.head()"
   ]
  },
  {
   "cell_type": "code",
   "execution_count": 8,
   "metadata": {
    "colab": {
     "base_uri": "https://localhost:8080/"
    },
    "id": "Mh557IFsdr5F",
    "outputId": "9a78efa8-b7b5-4f3a-bb18-c219d36686b2"
   },
   "outputs": [
    {
     "name": "stdout",
     "output_type": "stream",
     "text": [
      "<class 'pandas.core.frame.DataFrame'>\n",
      "RangeIndex: 33 entries, 0 to 32\n",
      "Data columns (total 11 columns):\n",
      " #   Column             Non-Null Count  Dtype  \n",
      "---  ------             --------------  -----  \n",
      " 0   Project Title      33 non-null     object \n",
      " 1   Location           33 non-null     object \n",
      " 2   Project Developer  33 non-null     object \n",
      " 3   Type               33 non-null     object \n",
      " 4   Mechanism          33 non-null     object \n",
      " 5   Vintage            33 non-null     float64\n",
      " 6   Quantity           33 non-null     float64\n",
      " 7   Dollar             33 non-null     float64\n",
      " 8   Registry           33 non-null     object \n",
      " 9   Standard           33 non-null     object \n",
      " 10  Grade              33 non-null     object \n",
      "dtypes: float64(3), object(8)\n",
      "memory usage: 3.0+ KB\n"
     ]
    }
   ],
   "source": [
    "df.info()"
   ]
  },
  {
   "cell_type": "code",
   "execution_count": 9,
   "metadata": {
    "colab": {
     "base_uri": "https://localhost:8080/"
    },
    "id": "FydjXClxK3Ys",
    "outputId": "b361fabc-38d0-46bb-a2ae-fcf87716c496"
   },
   "outputs": [
    {
     "name": "stdout",
     "output_type": "stream",
     "text": [
      "Restricted license - for non-production use only - expires 2023-10-25\n"
     ]
    }
   ],
   "source": [
    "# Initialize model\n",
    "model = gp.Model(\"MIP_Model\")"
   ]
  },
  {
   "cell_type": "code",
   "execution_count": 10,
   "metadata": {
    "id": "Loj8VwDwK3fe"
   },
   "outputs": [],
   "source": [
    "# Number of projects in the data table\n",
    "numProjDev = df.shape[0]"
   ]
  },
  {
   "cell_type": "code",
   "execution_count": 11,
   "metadata": {
    "id": "CfkWLoy4K3mG"
   },
   "outputs": [],
   "source": [
    "# Add variables to the model\n",
    "x = model.addVars(numProjDev, vtype=GRB.INTEGER, name=\"quantity\")\n",
    "d = model.addVars(numProjDev, vtype=GRB.BINARY, name=\"devTF\")\n",
    "#g = model.addVars(numProjDev, vtype=GRB.INTEGER, name=\"registry\")\n",
    "#v = model.addVars(numProjDev, vtype=GRB.INTEGER, name=\"vintage\")\n",
    "#t = model.addVars(numProjDev, vtype=GRB.INTEGER, name=\"typeProj\")\n",
    "#l = model.addVars(numProjDev, vtype=GRB.INTEGER, name=\"location\")\n",
    "#ch = model.addVars(numProjDev, vtype=GRB.INTEGER, name=\"mechanism\")"
   ]
  },
  {
   "cell_type": "code",
   "execution_count": 12,
   "metadata": {
    "colab": {
     "base_uri": "https://localhost:8080/"
    },
    "id": "JXBiQvxkkgU5",
    "outputId": "4dbdf40e-d7e7-44eb-aca5-bf3bfef5155a"
   },
   "outputs": [
    {
     "data": {
      "text/plain": [
       "array(['B', 'B', 'B', 'F', 'F', 'B', 'B', 'B', 'B', 'B', 'B', 'B', 'F',\n",
       "       'F', 'A', 'A', 'A', 'A', 'B', 'B', 'B', 'B', 'B', 'B', 'B', 'B',\n",
       "       'C', 'F', 'F', 'D', 'B', 'C', 'B'], dtype=object)"
      ]
     },
     "execution_count": 12,
     "metadata": {},
     "output_type": "execute_result"
    }
   ],
   "source": [
    "df['Grade'].values"
   ]
  },
  {
   "cell_type": "code",
   "execution_count": 13,
   "metadata": {
    "id": "oMQkCF7Sfxkj"
   },
   "outputs": [],
   "source": [
    "obj = sum(elem1 * castRisk(elem2) for elem1, elem2 in zip(x, df['Grade']))\n",
    "model.setObjective(obj, GRB.MINIMIZE)"
   ]
  },
  {
   "cell_type": "code",
   "execution_count": 14,
   "metadata": {
    "colab": {
     "base_uri": "https://localhost:8080/"
    },
    "id": "qlXnO5ySrVq9",
    "outputId": "f2c05a0d-a0ef-400b-e1ff-f6e3785227bf"
   },
   "outputs": [
    {
     "data": {
      "text/plain": [
       "2.63"
      ]
     },
     "execution_count": 14,
     "metadata": {},
     "output_type": "execute_result"
    }
   ],
   "source": [
    "df['Dollar'][1]"
   ]
  },
  {
   "cell_type": "code",
   "execution_count": 15,
   "metadata": {
    "colab": {
     "base_uri": "https://localhost:8080/"
    },
    "id": "JYRIuJyElMW6",
    "outputId": "03c93d4b-6e3b-4d42-df2b-4348db4b8209"
   },
   "outputs": [
    {
     "data": {
      "text/plain": [
       "<gurobi.Constr *Awaiting Model Update*>"
      ]
     },
     "execution_count": 15,
     "metadata": {},
     "output_type": "execute_result"
    }
   ],
   "source": [
    "model.addConstr(gp.quicksum(df['Dollar'][i]*x[i] for i in range(numProjDev)) <= 1000, \"price\")\n",
    "for i in range(numProjDev):\n",
    "  model.addConstr(x[i] <= df[\"Quantity\"][i], \"quantity\")\n",
    "  model.addConstr(d[i] * x[i] - x[i] >= -0.5, \"1st binary constraint\")\n",
    "  model.addConstr(d[i] * x[i] - d[i] >= -0.5, \"2nd binary constraint\")\n",
    "model.addConstr(gp.quicksum(d[i] for i in range(numProjDev)) >= 20)"
   ]
  },
  {
   "cell_type": "code",
   "execution_count": 16,
   "metadata": {
    "colab": {
     "base_uri": "https://localhost:8080/"
    },
    "id": "d2AR3XbBoMUQ",
    "outputId": "cb452c43-2b6c-4806-ac93-3250ee1ea264"
   },
   "outputs": [
    {
     "data": {
      "text/plain": [
       "<gurobi.Constr *Awaiting Model Update*>"
      ]
     },
     "execution_count": 16,
     "metadata": {},
     "output_type": "execute_result"
    }
   ],
   "source": [
    "model.addConstr(distinct(d, df['Vintage'], numProjDev) >= 1, \"vintage\")\n",
    "model.addConstr(distinct(d, df['Registry'], numProjDev) >= 1, \"registry\")\n",
    "model.addConstr(distinct(d, df['Location'], numProjDev) >= 1, \"location\")\n",
    "model.addConstr(distinct(d, df['Mechanism'], numProjDev) >= 1, \"mechanism\")\n",
    "model.addConstr(distinct(d, df['Type'], numProjDev) >= 1, \"typeProject\")\n",
    "model.addConstr(gp.quicksum(x[i] for i in range(numProjDev)) >= 100, \"quota\")"
   ]
  },
  {
   "cell_type": "code",
   "execution_count": 17,
   "metadata": {
    "colab": {
     "base_uri": "https://localhost:8080/",
     "height": 304
    },
    "id": "cGPLq6bttHwW",
    "outputId": "259989d1-915d-40fc-dc49-57ad28c6b0bc"
   },
   "outputs": [
    {
     "name": "stdout",
     "output_type": "stream",
     "text": [
      "Gurobi Optimizer version 9.5.2 build v9.5.2rc0 (mac64[rosetta2])\n",
      "Thread count: 8 physical cores, 8 logical processors, using up to 8 threads\n",
      "Optimize a model with 41 rows, 66 columns and 132 nonzeros\n",
      "Model fingerprint: 0x1b3f5d22\n",
      "Model has 66 quadratic constraints\n",
      "Variable types: 0 continuous, 66 integer (33 binary)\n",
      "Coefficient statistics:\n",
      "  Matrix range     [1e+00, 2e+03]\n",
      "  QMatrix range    [1e+00, 1e+00]\n",
      "  QLMatrix range   [1e+00, 1e+00]\n",
      "  Objective range  [0e+00, 0e+00]\n",
      "  Bounds range     [1e+00, 1e+00]\n",
      "  RHS range        [1e+00, 2e+05]\n",
      "  QRHS range       [5e-01, 5e-01]\n",
      "Presolve added 20 rows and 0 columns\n",
      "Presolve removed 0 rows and 7 columns\n",
      "Presolve time: 0.01s\n",
      "Presolved: 61 rows, 59 columns, 206 nonzeros\n",
      "Variable types: 0 continuous, 59 integer (30 binary)\n",
      "Found heuristic solution: objective 1457.0000000\n",
      "\n",
      "Explored 0 nodes (0 simplex iterations) in 0.02 seconds (0.00 work units)\n",
      "Thread count was 8 (of 8 available processors)\n",
      "\n",
      "Solution count 1: 1457 \n",
      "\n",
      "Optimal solution found (tolerance 1.00e-04)\n",
      "Best objective 1.457000000000e+03, best bound 1.457000000000e+03, gap 0.0000%\n"
     ]
    }
   ],
   "source": [
    "model.optimize()"
   ]
  },
  {
   "cell_type": "code",
   "execution_count": 18,
   "metadata": {},
   "outputs": [
    {
     "name": "stdout",
     "output_type": "stream",
     "text": [
      "quantity[0] = -0.0\n",
      "quantity[1] = -0.0\n",
      "quantity[2] = -0.0\n",
      "quantity[3] = -0.0\n",
      "quantity[4] = -0.0\n",
      "quantity[5] = -0.0\n",
      "quantity[6] = -0.0\n",
      "quantity[7] = -0.0\n",
      "quantity[8] = -0.0\n",
      "quantity[9] = 1.0\n",
      "quantity[10] = 1.0\n",
      "quantity[11] = 1.0\n",
      "quantity[12] = 1.0\n",
      "quantity[13] = 1.0\n",
      "quantity[14] = -0.0\n",
      "quantity[15] = -0.0\n",
      "quantity[16] = 0.0\n",
      "quantity[17] = 0.0\n",
      "quantity[18] = 1.0\n",
      "quantity[19] = 1.0\n",
      "quantity[20] = 1.0\n",
      "quantity[21] = 1.0\n",
      "quantity[22] = 1.0\n",
      "quantity[23] = 1.0\n",
      "quantity[24] = 1.0\n",
      "quantity[25] = 1.0\n",
      "quantity[26] = 1.0\n",
      "quantity[27] = 1.0\n",
      "quantity[28] = 1.0\n",
      "quantity[29] = 1.0\n",
      "quantity[30] = 1.0\n",
      "quantity[31] = 81.0\n",
      "quantity[32] = 1.0\n",
      "devTF[0] = -0.0\n",
      "devTF[1] = -0.0\n",
      "devTF[2] = -0.0\n",
      "devTF[3] = -0.0\n",
      "devTF[4] = -0.0\n",
      "devTF[5] = -0.0\n",
      "devTF[6] = -0.0\n",
      "devTF[7] = -0.0\n",
      "devTF[8] = -0.0\n",
      "devTF[9] = 1.0\n",
      "devTF[10] = 1.0\n",
      "devTF[11] = 1.0\n",
      "devTF[12] = 1.0\n",
      "devTF[13] = 1.0\n",
      "devTF[14] = 0.0\n",
      "devTF[15] = 0.0\n",
      "devTF[16] = 0.0\n",
      "devTF[17] = 0.0\n",
      "devTF[18] = 1.0\n",
      "devTF[19] = 1.0\n",
      "devTF[20] = 1.0\n",
      "devTF[21] = 1.0\n",
      "devTF[22] = 1.0\n",
      "devTF[23] = 1.0\n",
      "devTF[24] = 1.0\n",
      "devTF[25] = 1.0\n",
      "devTF[26] = 1.0\n",
      "devTF[27] = 1.0\n",
      "devTF[28] = 1.0\n",
      "devTF[29] = 1.0\n",
      "devTF[30] = 1.0\n",
      "devTF[31] = 1.0\n",
      "devTF[32] = 1.0\n"
     ]
    }
   ],
   "source": [
    "for v in model.getVars():\n",
    "    print(f\"{v.varName} = {v.x}\")"
   ]
  },
  {
   "cell_type": "code",
   "execution_count": null,
   "metadata": {},
   "outputs": [],
   "source": []
  }
 ],
 "metadata": {
  "colab": {
   "provenance": []
  },
  "kernelspec": {
   "display_name": "Python 3 (ipykernel)",
   "language": "python",
   "name": "python3"
  },
  "language_info": {
   "codemirror_mode": {
    "name": "ipython",
    "version": 3
   },
   "file_extension": ".py",
   "mimetype": "text/x-python",
   "name": "python",
   "nbconvert_exporter": "python",
   "pygments_lexer": "ipython3",
   "version": "3.9.7"
  }
 },
 "nbformat": 4,
 "nbformat_minor": 1
}
